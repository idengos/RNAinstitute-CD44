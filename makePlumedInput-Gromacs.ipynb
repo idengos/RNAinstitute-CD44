{
 "cells": [
  {
   "cell_type": "code",
   "execution_count": 1,
   "id": "d527794f",
   "metadata": {},
   "outputs": [],
   "source": [
    "# Want B to C   removing one of the pairs \n",
    "\n",
    "#The Goal is to take a pdb file and identify all the WC base pairs and the hydrogen bonded atoms(?)\n",
    "# Then create an input file in Plumed's format to define the distances between those hydrogen bonded atoms so\n",
    "# that a constraints/restraint function can be added later\n",
    "\n",
    "# This is specifically for CD44 SS_B right now though can be reworked for other uses\n",
    "\n",
    "# Running Plumed with these intial constraints/restraints will then allow me to reduce the phase space and \n",
    "# then be able to reduce computational run time\n",
    "\n",
    "# Inputs: .pdb file\n",
    "# Return: some plumed input file (?)\n",
    "\n",
    "# Made by Isabel Dengos (ijdengos@gmail.com)\n",
    "# February 2022\n",
    "# Chen Lab, RNA Institute, UAlbany"
   ]
  },
  {
   "cell_type": "code",
   "execution_count": 2,
   "id": "fef1554d",
   "metadata": {},
   "outputs": [],
   "source": [
    "# Import all packages needed\n",
    "from simtk.openmm.app import *\n",
    "from simtk.openmm import *\n",
    "from simtk.unit import *\n",
    "import numpy as np\n",
    "import sys"
   ]
  },
  {
   "cell_type": "code",
   "execution_count": 3,
   "id": "738b7d27",
   "metadata": {},
   "outputs": [],
   "source": [
    "# Import all files needed\n",
    "pdb = PDBFile(\"/network/rit/home/ID653677/ChenRNALab/idengos/CD44/SS_B/DistAndHHeatGromacs/conf.pdb\")"
   ]
  },
  {
   "cell_type": "code",
   "execution_count": 4,
   "id": "2878c3e6",
   "metadata": {},
   "outputs": [],
   "source": [
    "#beginig of Plumed output build\n",
    "k = 0\n",
    "\n",
    "lines = ['#SETTINGS MOLFILE=/network/rit/home/ID653677/ChenRNALab/idengos/CD44/SS_B/DistAndHHeatGromacs/conf.pdb', \n",
    "         '# vim:ft=plumed', 'MOLINFO STRUCTURE=conf.pdb']\n",
    "\n",
    "with open('plumed2.dat', 'w') as f:\n",
    "    for line in lines:\n",
    "        f.write(line)\n",
    "        f.write('\\n')\n",
    "        f.close\n",
    "        \n",
    "#for checking in pymol to see if okay later\n",
    "for_pymol = 'select'"
   ]
  },
  {
   "cell_type": "code",
   "execution_count": 5,
   "id": "3dc8e58a",
   "metadata": {},
   "outputs": [],
   "source": [
    "# Use OpenMM to take out the residues?\n",
    "top = pdb.getTopology()\n",
    "pos = pdb.getPositions(True)\n"
   ]
  },
  {
   "cell_type": "code",
   "execution_count": 6,
   "id": "9082f4ed",
   "metadata": {},
   "outputs": [
    {
     "name": "stdout",
     "output_type": "stream",
     "text": [
      "[0, 1, 2, 3, 4, 5, 6, 7, 8, 9, 10, 17, 18, 19, 20, 21, 22, 23, 24, 25]\n",
      "[47, 46, 45, 44, 43, 42, 41, 39, 38, 37, 36, 34, 33, 32, 31, 30, 29, 28, 27, 26]\n",
      "20\n",
      "20\n"
     ]
    }
   ],
   "source": [
    "#Making lists of residue pairs for the structure /(believe me this was the easist way since 40 was missing)\n",
    "left_side = [*range(0,11), *range(17,26)]\n",
    "right_side = [*range(47,40,-1), *range(39,35,-1,), *range(34,25,-1)]\n",
    "\n",
    "#Check to make sure your lists are what you need for your particular structure\n",
    "print(left_side)\n",
    "print(right_side)\n",
    "\n",
    "#check that they're the same length\n",
    "print(len(left_side))\n",
    "print(len(right_side))\n"
   ]
  },
  {
   "cell_type": "code",
   "execution_count": 7,
   "id": "a642fbe8",
   "metadata": {},
   "outputs": [],
   "source": [
    "for r in (0,1):\n",
    "    \n",
    "    for t in range(len(left_side)):\n",
    "        L = left_side[t]\n",
    "        R = right_side[t]\n",
    "   \n",
    "        #Check for the hyrodegens on the leftside, then the rightside\n",
    "        if r == 0:\n",
    "            A = L\n",
    "            B = R\n",
    "        else:\n",
    "            B = L\n",
    "            A = R\n",
    "        \n",
    "        resA = list(top.residues())[A]\n",
    "        atom_idsA = []\n",
    "        for atom in resA.atoms():\n",
    "            atom_idsA.append(atom.id)\n",
    "\n",
    "        resB = list(top.residues())[B]\n",
    "        atom_idsB = []\n",
    "        for atom in resB.atoms():\n",
    "            atom_idsB.append(atom.id)\n",
    "      \n",
    "    \n",
    "    \n",
    "\n",
    "        first_H = [] \n",
    "        n_list = []\n",
    "        for atom in resA.atoms():\n",
    "            if atom.element.symbol == 'H':\n",
    "                n_list.append(atom.id)\n",
    "                first_H.append(pos[atom.index])\n",
    "    \n",
    "        non_H = []\n",
    "        m_list = []\n",
    "        for atom in resB.atoms():\n",
    "            if atom.element.symbol != 'H':\n",
    "                m_list.append(atom.id)\n",
    "                non_H.append(pos[atom.index])\n",
    "        non_Hv=np.array(non_H)\n",
    "\n",
    "        \n",
    "\n",
    "        for i in range(len(first_H)):\n",
    "\n",
    "            first_Hv = np.array(first_H[i])\n",
    "\n",
    "\n",
    "            dist = np.linalg.norm(non_Hv-first_Hv, axis=1)\n",
    "            mini = np.min(dist)\n",
    "            if mini < .25:\n",
    "                j = np.argmin(dist)\n",
    "                \n",
    "\n",
    "\n",
    "                newl = 'd{:d}: DISTANCE ATOMS={:d},{:d}'.format(k,int(n_list[i]), int(m_list[j]))\n",
    "                p1newl = ' id {:d} or id {:d} or'.format(int(n_list[i]), int(m_list[j])) #for pymol easy access\n",
    "                for_pymol += p1newl    \n",
    "\n",
    "                with open('plumed2.dat', 'a') as f:\n",
    "                        f.write('\\n')\n",
    "                        f.write(newl)\n",
    "                        k = k+1\n"
   ]
  },
  {
   "cell_type": "code",
   "execution_count": 8,
   "id": "ea6ca329",
   "metadata": {},
   "outputs": [
    {
     "name": "stdout",
     "output_type": "stream",
     "text": [
      "select id 82 or id 1453 or id 116 or id 1423 or id 150 or id 1385 or id 181 or id 1351 or id 212 or id 1321 or id 245 or id 1256 or id 276 or id 1226 or id 306 or id 1193 or id 339 or id 1163 or id 591 or id 1068 or id 621 or id 1038 or id 624 or id 1042 or id 654 or id 1004 or id 685 or id 974 or id 715 or id 943 or id 718 or id 945 or id 749 or id 906 or id 780 or id 872 or id 818 or id 826 or id 822 or id 837 or id 1451 or id 80 or id 1421 or id 114 or id 1387 or id 151 or id 1390 or id 153 or id 1353 or id 182 or id 1356 or id 184 or id 1323 or id 213 or id 1258 or id 246 or id 1261 or id 248 or id 1225 or id 274 or id 1195 or id 307 or id 1165 or id 341 or id 1070 or id 593 or id 1040 or id 622 or id 1006 or id 655 or id 1009 or id 657 or id 973 or id 683 or id 942 or id 713 or id 908 or id 750 or id 911 or id 752 or id 874 or id 783 or id 877 or id 783 or id 838 or id 821 or\n"
     ]
    }
   ],
   "source": [
    "\n",
    "print(for_pymol)\n",
    "\n",
    "#Should use this to inspect the atoms it collected\n",
    "\n",
    "# There will be weirdness around the loop at the top; may need to remove them from the plumed file\n",
    "# by hand based on what it looks like\n",
    "\n",
    "# I have been doing this by turning the whole structure white; using the selection command to turn all\n",
    "# the selected atoms a color and the visually inspecting them\n",
    "\n",
    "# I chose not to automate this removal because when used for other comformations (other than B), it will be \n",
    "# different each time"
   ]
  },
  {
   "cell_type": "code",
   "execution_count": null,
   "id": "5b95c15b",
   "metadata": {},
   "outputs": [],
   "source": []
  }
 ],
 "metadata": {
  "kernelspec": {
   "display_name": "Python 3",
   "language": "python",
   "name": "python3"
  },
  "language_info": {
   "codemirror_mode": {
    "name": "ipython",
    "version": 3
   },
   "file_extension": ".py",
   "mimetype": "text/x-python",
   "name": "python",
   "nbconvert_exporter": "python",
   "pygments_lexer": "ipython3",
   "version": "3.7.10"
  }
 },
 "nbformat": 4,
 "nbformat_minor": 5
}
