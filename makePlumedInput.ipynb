{
 "cells": [
  {
   "cell_type": "code",
   "execution_count": 1,
   "id": "d527794f",
   "metadata": {},
   "outputs": [],
   "source": [
    "# The Goal is to take a pdb file and identify all the WC base pairs and the hydrogen bonded atoms(?)\n",
    "# Then create an input file in Plumed's format to define the distances between those hydrogen bonded atoms so\n",
    "# that a constraints/restraint function can be added later\n",
    "\n",
    "# This is specifically for CD44 SS_B right now though can be reworked for other uses\n",
    "\n",
    "# Running Plumed with these intial constraints/restraints will then allow me to reduce the phase space and \n",
    "# then be able to reduce computational run time\n",
    "\n",
    "# Inputs: .pdb file\n",
    "# Return: some plumed input file (?)\n",
    "\n",
    "# Made by Isabel Dengos (ijdengos@gmail.com)\n",
    "# October 2021\n",
    "# Chen Lab, RNA Institute, UAlbany"
   ]
  },
  {
   "cell_type": "code",
   "execution_count": 2,
   "id": "fef1554d",
   "metadata": {},
   "outputs": [],
   "source": [
    "# Import all packages needed\n",
    "from simtk.openmm.app import PDBFile\n",
    "from simtk.openmm.app import *\n",
    "from simtk.openmm import *\n",
    "from simtk.unit import *\n",
    "import pandas as pd\n",
    "import numpy as np\n",
    "import sys"
   ]
  },
  {
   "cell_type": "code",
   "execution_count": 3,
   "id": "738b7d27",
   "metadata": {},
   "outputs": [],
   "source": [
    "# Import all files needed\n",
    "pdb = PDBFile(\"/network/rit/home/ID653677/ChenRNALab/idengos/CD44/SS_B/SS_B_nores/SS_B.pdb\")"
   ]
  },
  {
   "cell_type": "code",
   "execution_count": 4,
   "id": "2878c3e6",
   "metadata": {},
   "outputs": [],
   "source": [
    "#beginig of Plumed output build\n",
    "k = 0\n",
    "\n",
    "lines = ['#SETTINGS MOLFILE=/network/rit/home/ID653677/ChenRNALab/idengos/CD44/SS_B/SS_B_nores/SS_B.pdb', \n",
    "         '# vim:ft=plumed', 'MOLINFO STRUCTURE=SS_B.pdb']\n",
    "\n",
    "with open('plumed.dat', 'w') as f:\n",
    "    for line in lines:\n",
    "        f.write(line)\n",
    "        f.write('\\n')\n",
    "        f.close\n",
    "        \n",
    "#for checking in pymol to see if okay later\n",
    "for_pymol = 'select'"
   ]
  },
  {
   "cell_type": "code",
   "execution_count": 5,
   "id": "3dc8e58a",
   "metadata": {},
   "outputs": [],
   "source": [
    "# Use OpenMM to take out the residues?\n",
    "top = pdb.getTopology()\n",
    "pos = pdb.getPositions()\n",
    "# Match up which residue with which\n",
    "#Rememeber resideues are n-1\n",
    "\n"
   ]
  },
  {
   "cell_type": "code",
   "execution_count": 6,
   "id": "9082f4ed",
   "metadata": {},
   "outputs": [
    {
     "name": "stdout",
     "output_type": "stream",
     "text": [
      "[0, 1, 2, 3, 4, 5, 6, 7, 8, 9, 10, 11, 17, 18, 19, 20, 21, 22, 23, 24, 25]\n",
      "[47, 46, 45, 44, 43, 42, 41, 39, 38, 37, 36, 35, 34, 33, 32, 31, 30, 29, 28, 27, 26]\n",
      "21\n",
      "21\n"
     ]
    }
   ],
   "source": [
    "#Making lists of residue pairs for the structure /(believe me this was the easist way since 40 was missing)\n",
    "left_side = [*range(0,12), *range(17,26)]\n",
    "right_side = [*range(47,40,-1), *range(39,25,-1)]\n",
    "\n",
    "#Check to make sure your lists are what you need for your particular structure\n",
    "print(left_side)\n",
    "print(right_side)\n",
    "\n",
    "#check that they're the same length\n",
    "print(len(left_side))\n",
    "print(len(right_side))"
   ]
  },
  {
   "cell_type": "code",
   "execution_count": 7,
   "id": "a642fbe8",
   "metadata": {},
   "outputs": [],
   "source": [
    "\n",
    "for t in range(len(left_side)):\n",
    "    L = left_side[t]\n",
    "    R = right_side[t]\n",
    "    \n",
    "#for debugging GU pair\n",
    "#for t in range(1,2):\n",
    " #   L=2\n",
    "  #  R=45\n",
    "    resLeft = list(top.residues())[L]\n",
    "    atom_idsLeft = []\n",
    "    for atom in resLeft.atoms():\n",
    "        atom_idsLeft.append(atom.id)\n",
    "    #print(atom_idsLeft)\n",
    "\n",
    "    resRight = list(top.residues())[R]\n",
    "    atom_idsRight = []\n",
    "    for atom in resRight.atoms():\n",
    "        atom_idsRight.append(atom.id)\n",
    "    #print(atom_idsRight)\n",
    "\n",
    "\n",
    "# if first list hydrogen, then look at second list and see if \"close\" to another, if not hydorgen, call pair\n",
    "\n",
    "    first_H = []\n",
    "    n_list = []\n",
    "    for atom in resLeft.atoms():\n",
    "        if atom.element.symbol == 'H':\n",
    "            n_list.append(atom.id)\n",
    "            first_H.append(pos[atom.index])\n",
    "            #first_H = pos[atom.index]\n",
    "\n",
    "            #go through second list and check distance\n",
    "            #should probably do the distance for all of them just to check\n",
    "\n",
    "    non_H = []\n",
    "    m_list = []\n",
    "    for atom in resRight.atoms():\n",
    "        if atom.element.symbol != 'H':\n",
    "            m_list.append(atom.id)\n",
    "            non_H.append(pos[atom.index])\n",
    "\n",
    "\n",
    "\n",
    "    for i in range(len(first_H)):\n",
    "\n",
    "        for j in range(len(non_H)): \n",
    "\n",
    "            dist = np.linalg.norm(first_H[i]-non_H[j])\n",
    "            if dist < .25*nanometers:\n",
    "\n",
    "                newl = 'd{:d}: DISTANCE ATOMS={:d},{:d}'.format(k,int(n_list[i]), int(m_list[j]))\n",
    "                p1newl = ' id {:d} or id {:d} or'.format(int(n_list[i]), int(m_list[j])) #for pymol easy access\n",
    "                for_pymol += p1newl\n",
    "                \n",
    "                with open('plumed.dat', 'a') as f:\n",
    "                    f.write('\\n')\n",
    "                    f.write(newl)\n",
    "                k = k+1\n",
    "\n",
    "    #Second list Hydrogen\n",
    "\n",
    "    sfirst_H = []\n",
    "    sn_list = []\n",
    "    for atom in resRight.atoms():\n",
    "        if atom.element.symbol == 'H':\n",
    "            sn_list.append(atom.id)\n",
    "            sfirst_H.append(pos[atom.index])\n",
    "            #first_H = pos[atom.index]\n",
    "\n",
    "            #go through second list and check distance\n",
    "            #should probably do the distance for all of them just to check\n",
    "\n",
    "    snon_H = []\n",
    "    sm_list = []\n",
    "    for atom in resLeft.atoms():\n",
    "        if atom.element.symbol != 'H':\n",
    "            sm_list.append(atom.id)\n",
    "            snon_H.append(pos[atom.index])\n",
    "\n",
    "\n",
    "\n",
    "\n",
    "    for i in range(len(sfirst_H)):\n",
    "\n",
    "        for j in range(len(snon_H)): \n",
    "\n",
    "            sdist = np.linalg.norm(sfirst_H[i]-snon_H[j])\n",
    "            if sdist < .25*nanometers:\n",
    "\n",
    "                snewl = 'd{:d}: DISTANCE ATOMS={:d},{:d}'.format(k,int(sn_list[i]), int(sm_list[j]))\n",
    "                pnewl = ' id {:d} or id {:d} or'.format(int(sn_list[i]), int(sm_list[j])) #for pymol easy access\n",
    "                for_pymol += pnewl\n",
    "                \n",
    "                with open('plumed.dat', 'a') as f:\n",
    "                    f.write('\\n')\n",
    "                    f.write(snewl)\n",
    "                k = k+1           \n",
    "\n",
    "                \n",
    "     #print(first_H[i])\n",
    "\n",
    "    #diatnce_vect = np.linalg.norm(first_H[i]/nanometer-non_H/nanometers)\n",
    "    #print(diatnce_vect)\n",
    "\n",
    "\n",
    "\n",
    "            #pick out the one; break if there is more than one\n",
    "\n",
    "            #append a \"n,m\" list that can be used to read onto a plumed file\n",
    "       # print(atom.name)\n",
    "\n",
    "    #for atom in res47.atoms():\n",
    "     #   print(atom.name)    \n",
    "\n",
    "    #same for second list\n",
    "\n",
    "\n",
    "#Then which atom goes with which (thining some type of: \"not on your own residue\"\n",
    "#needs to be a heavy atom-hydrogen and then within certain distance and then boom ya'll are besties)\n",
    "#probably make those pairs into an array or little list"
   ]
  },
  {
   "cell_type": "code",
   "execution_count": 8,
   "id": "ea6ca329",
   "metadata": {},
   "outputs": [
    {
     "name": "stdout",
     "output_type": "stream",
     "text": [
      "select id 82 or id 1447 or id 1449 or id 84 or id 116 or id 1417 or id 1419 or id 118 or id 151 or id 1389 or id 1385 or id 146 or id 1387 or id 145 or id 1387 or id 146 or id 1387 or id 147 or id 182 or id 1355 or id 1351 or id 177 or id 1353 or id 176 or id 1353 or id 177 or id 1353 or id 178 or id 213 or id 1323 or id 1321 or id 209 or id 246 or id 1260 or id 1256 or id 241 or id 1258 or id 240 or id 1258 or id 241 or id 1258 or id 242 or id 274 or id 1220 or id 274 or id 1222 or id 1226 or id 276 or id 307 or id 1195 or id 1193 or id 303 or id 337 or id 1165 or id 1163 or id 335 or id 367 or id 1130 or id 369 or id 1131 or id 1135 or id 371 or id 589 or id 1072 or id 1070 or id 587 or id 617 or id 1036 or id 622 or id 1040 or id 1038 or id 618 or id 655 or id 1008 or id 1004 or id 650 or id 1006 or id 649 or id 1006 or id 650 or id 1006 or id 651 or id 683 or id 970 or id 974 or id 685 or id 713 or id 938 or id 715 or id 937 or id 715 or id 938 or id 715 or id 939 or id 943 or id 717 or id 750 or id 910 or id 906 or id 745 or id 908 or id 744 or id 908 or id 745 or id 908 or id 746 or id 781 or id 876 or id 872 or id 776 or id 874 or id 775 or id 874 or id 776 or id 874 or id 777 or id 820 or id 827 or id 820 or id 828 or id 822 or id 826 or id 838 or id 819 or\n"
     ]
    }
   ],
   "source": [
    "print(for_pymol)\n",
    "\n"
   ]
  },
  {
   "cell_type": "code",
   "execution_count": 9,
   "id": "5b95c15b",
   "metadata": {},
   "outputs": [],
   "source": [
    "# Then we write into a text file using a loop into plumed's format\n",
    "#So like start the text file and then use a loop to write the pairs and the d(i): n,m blahhh\n",
    "# need to use atom.id for each not # beacuse that will give probably actually like what I need hopefully lol"
   ]
  },
  {
   "cell_type": "code",
   "execution_count": null,
   "id": "dc8a9d9e",
   "metadata": {},
   "outputs": [],
   "source": []
  },
  {
   "cell_type": "code",
   "execution_count": null,
   "id": "22bcf8d9",
   "metadata": {},
   "outputs": [],
   "source": []
  },
  {
   "cell_type": "code",
   "execution_count": null,
   "id": "7c860482",
   "metadata": {},
   "outputs": [],
   "source": []
  },
  {
   "cell_type": "code",
   "execution_count": null,
   "id": "fb7e6dba",
   "metadata": {},
   "outputs": [],
   "source": []
  },
  {
   "cell_type": "code",
   "execution_count": null,
   "id": "e7bf2de9",
   "metadata": {},
   "outputs": [],
   "source": []
  }
 ],
 "metadata": {
  "kernelspec": {
   "display_name": "Python 3",
   "language": "python",
   "name": "python3"
  },
  "language_info": {
   "codemirror_mode": {
    "name": "ipython",
    "version": 3
   },
   "file_extension": ".py",
   "mimetype": "text/x-python",
   "name": "python",
   "nbconvert_exporter": "python",
   "pygments_lexer": "ipython3",
   "version": "3.7.10"
  }
 },
 "nbformat": 4,
 "nbformat_minor": 5
}
