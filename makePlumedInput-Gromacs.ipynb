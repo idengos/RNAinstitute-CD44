{
 "cells": [
  {
   "cell_type": "code",
   "execution_count": null,
   "id": "d527794f",
   "metadata": {},
   "outputs": [],
   "source": [
    "# Want B to C   removing one of the pairs \n",
    "\n",
    "#The Goal is to take a pdb file and identify all the WC base pairs and the hydrogen bonded atoms(?)\n",
    "# Then create an input file in Plumed's format to define the distances between those hydrogen bonded atoms so\n",
    "# that a constraints/restraint function can be added later\n",
    "\n",
    "# This is specifically for CD44 SS_B right now though can be reworked for other uses\n",
    "\n",
    "# Running Plumed with these intial constraints/restraints will then allow me to reduce the phase space and \n",
    "# then be able to reduce computational run time\n",
    "\n",
    "# Inputs: .pdb file\n",
    "# Return: some plumed input file (?)\n",
    "\n",
    "# Made by Isabel Dengos (ijdengos@gmail.com)\n",
    "# February 2022\n",
    "# Chen Lab, RNA Institute, UAlbany"
   ]
  },
  {
   "cell_type": "code",
   "execution_count": null,
   "id": "fef1554d",
   "metadata": {},
   "outputs": [],
   "source": [
    "# Import all packages needed\n",
    "from simtk.openmm.app import *\n",
    "from simtk.openmm import *\n",
    "from simtk.unit import *\n",
    "import numpy as np\n",
    "import sys"
   ]
  },
  {
   "cell_type": "code",
   "execution_count": null,
   "id": "738b7d27",
   "metadata": {},
   "outputs": [],
   "source": [
    "# Import all files needed\n",
    "pdb = PDBFile(\"/network/rit/home/ID653677/ChenRNALab/idengos/CD44/SS_B/DistRestGro2/conf.pdb\")"
   ]
  },
  {
   "cell_type": "code",
   "execution_count": null,
   "id": "2878c3e6",
   "metadata": {},
   "outputs": [],
   "source": [
    "#beginig of Plumed output build\n",
    "k = 0\n",
    "\n",
    "lines = ['[ distance_restraints ]', \n",
    "         '; ai  aj  type  index  type  low  up1  up2  fac']\n",
    "\n",
    "with open('DistCon.m', 'w') as f:\n",
    "    for line in lines:\n",
    "        f.write(line)\n",
    "        f.write('\\n')\n",
    "        f.close\n",
    "        \n",
    "#for checking in pymol to see if okay later\n",
    "for_pymol = 'select'"
   ]
  },
  {
   "cell_type": "code",
   "execution_count": null,
   "id": "3dc8e58a",
   "metadata": {},
   "outputs": [],
   "source": [
    "# Use OpenMM to take out the residues?\n",
    "top = pdb.getTopology()\n",
    "pos = pdb.getPositions(True)\n"
   ]
  },
  {
   "cell_type": "code",
   "execution_count": null,
   "id": "9082f4ed",
   "metadata": {},
   "outputs": [],
   "source": [
    "#Making lists of residue pairs for the structure /(believe me this was the easist way since 40 was missing)\n",
    "#Missing top loop piece because it always tries to bond weird\n",
    "#This has 11 and 35 missing so it can be free to convert to SS_C\n",
    "left_side = [*range(0,11), *range(17,25)]\n",
    "right_side = [*range(47,40,-1), *range(39,35,-1,), *range(34,24,-1)]\n",
    "\n",
    "#Check to make sure your lists are what you need for your particular structure\n",
    "print(left_side)\n",
    "print(right_side)\n",
    "\n",
    "#check that they're the same length\n",
    "print(len(right_side))\n"
   ]
  },
  {
   "cell_type": "code",
   "execution_count": null,
   "id": "a642fbe8",
   "metadata": {},
   "outputs": [],
   "source": [
    "for r in (0,1):\n",
    "    \n",
    "    for t in range(len(left_side)):\n",
    "        L = left_side[t]\n",
    "        R = right_side[t]\n",
    "   \n",
    "        #Check for the hyrodegens on the leftside, then the rightside\n",
    "        if r == 0:\n",
    "            A = L\n",
    "            B = R\n",
    "        else:\n",
    "            B = L\n",
    "            A = R\n",
    "        \n",
    "        resA = list(top.residues())[A]\n",
    "        atom_idsA = []\n",
    "        for atom in resA.atoms():\n",
    "            atom_idsA.append(atom.id)\n",
    "\n",
    "        resB = list(top.residues())[B]\n",
    "        atom_idsB = []\n",
    "        for atom in resB.atoms():\n",
    "            atom_idsB.append(atom.id)\n",
    "      \n",
    "    \n",
    "    \n",
    "\n",
    "        first_H = [] \n",
    "        n_list = []\n",
    "        for atom in resA.atoms():\n",
    "            if atom.element.symbol == 'H':\n",
    "                n_list.append(atom.id)\n",
    "                first_H.append(pos[atom.index])\n",
    "    \n",
    "        non_H = []\n",
    "        m_list = []\n",
    "        for atom in resB.atoms():\n",
    "            if atom.element.symbol != 'H':\n",
    "                m_list.append(atom.id)\n",
    "                non_H.append(pos[atom.index])\n",
    "        non_Hv=np.array(non_H)\n",
    "\n",
    "        \n",
    "\n",
    "        for i in range(len(first_H)):\n",
    "\n",
    "            first_Hv = np.array(first_H[i])\n",
    "\n",
    "\n",
    "            dist = np.linalg.norm(non_Hv-first_Hv, axis=1)\n",
    "            mini = np.min(dist)\n",
    "            if mini < .25:\n",
    "                j = np.argmin(dist)\n",
    "                \n",
    "\n",
    "\n",
    "                newl = '{:d}  {:d}  1  {:d}  1  0.1  .29  .4  1'.format(int(n_list[i]), int(m_list[j]), k)\n",
    "                p1newl = ' id {:d} or id {:d} or'.format(int(n_list[i]), int(m_list[j])) #for pymol easy access\n",
    "                for_pymol += p1newl    \n",
    "\n",
    "                with open('DistCon.m', 'a') as f:\n",
    "                        f.write('\\n')\n",
    "                        f.write(newl)\n",
    "                        k = k+1\n"
   ]
  },
  {
   "cell_type": "code",
   "execution_count": null,
   "id": "ea6ca329",
   "metadata": {},
   "outputs": [],
   "source": [
    "\n",
    "print(for_pymol)\n",
    "\n",
    "#Should use this to inspect the atoms it collected\n",
    "\n",
    "# There will be weirdness around the loop at the top; may need to remove them from the plumed file\n",
    "# by hand based on what it looks like\n",
    "\n",
    "# I have been doing this by turning the whole structure white; using the selection command to turn all\n",
    "# the selected atoms a color and the visually inspecting them\n",
    "\n",
    "# I chose not to automate this removal because when used for other comformations (other than B), it will be \n",
    "# different each time"
   ]
  },
  {
   "cell_type": "code",
   "execution_count": null,
   "id": "5b95c15b",
   "metadata": {},
   "outputs": [],
   "source": []
  }
 ],
 "metadata": {
  "kernelspec": {
   "display_name": "Python 3 (ipykernel)",
   "language": "python",
   "name": "python3"
  },
  "language_info": {
   "codemirror_mode": {
    "name": "ipython",
    "version": 3
   },
   "file_extension": ".py",
   "mimetype": "text/x-python",
   "name": "python",
   "nbconvert_exporter": "python",
   "pygments_lexer": "ipython3",
   "version": "3.7.13"
  }
 },
 "nbformat": 4,
 "nbformat_minor": 5
}
